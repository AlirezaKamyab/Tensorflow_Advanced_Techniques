{
 "cells": [
  {
   "cell_type": "markdown",
   "id": "ec60d5e8-1572-4dd4-8241-87fca3d8d57b",
   "metadata": {},
   "source": [
    "# Custom Layers\n",
    "## Simple Dense Layer"
   ]
  },
  {
   "cell_type": "code",
   "execution_count": 1,
   "id": "ff18fb77-e92b-44b8-82ad-f8dae1ed3127",
   "metadata": {},
   "outputs": [],
   "source": [
    "import os\n",
    "os.environ['TF_CPP_MIN_LOG_LEVEL'] = '2'"
   ]
  },
  {
   "cell_type": "code",
   "execution_count": 2,
   "id": "75755967-772c-4dd8-a35d-561a070dc460",
   "metadata": {},
   "outputs": [],
   "source": [
    "import tensorflow as tf\n",
    "from tensorflow import keras\n",
    "from keras.layers import Layer\n",
    "from keras.models import Sequential\n",
    "import numpy as np\n",
    "\n",
    "# Set up gpu\n",
    "physical_devices = tf.config.experimental.list_physical_devices('GPU')\n",
    "tf.config.experimental.set_memory_growth(physical_devices[0], True)"
   ]
  },
  {
   "cell_type": "code",
   "execution_count": 3,
   "id": "c5cce6c8-7d04-4677-b386-fdbb0894b733",
   "metadata": {},
   "outputs": [],
   "source": [
    "class SimpleDense(Layer):\n",
    "    def __init__(self, units=32):\n",
    "        super(SimpleDense, self).__init__()\n",
    "        self.units = units\n",
    "\n",
    "    def build(self, input_shape):\n",
    "        w_init = tf.random_normal_initializer()\n",
    "        b_init = tf.zeros_initializer()\n",
    "\n",
    "        self.w = tf.Variable(name='kernel', initial_value=w_init(shape=[input_shape[-1], self.units],\n",
    "                                                                dtype='float32'),\n",
    "                            trainable=True)\n",
    "        self.b = tf.Variable(name='bias', initial_value=b_init(shape=[self.units], dtype='float32'),\n",
    "                            trainable=True)\n",
    "\n",
    "    def call(self, inputs):\n",
    "        return tf.matmul(inputs, self.w) + self.b"
   ]
  },
  {
   "cell_type": "code",
   "execution_count": 4,
   "id": "4e2ea7f0-fdd6-4de9-9878-cb7176716f39",
   "metadata": {},
   "outputs": [],
   "source": [
    "X = np.arange(1, 10).reshape(-1, 1)\n",
    "X = X.astype('float32')\n",
    "Y = 2 * X - 1\n",
    "Y = Y.astype('float32')"
   ]
  },
  {
   "cell_type": "code",
   "execution_count": 5,
   "id": "c6c8efb6-6cac-4289-9472-c7093665dd96",
   "metadata": {},
   "outputs": [
    {
     "name": "stdout",
     "output_type": "stream",
     "text": [
      "initial predicted values are tf.Tensor(\n",
      "[[0.03857117]\n",
      " [0.07714234]\n",
      " [0.11571351]\n",
      " [0.15428467]\n",
      " [0.19285583]\n",
      " [0.23142701]\n",
      " [0.26999816]\n",
      " [0.30856934]\n",
      " [0.34714052]], shape=(9, 1), dtype=float32)\n",
      "<tf.Variable 'simple_dense/kernel:0' shape=(1, 1) dtype=float32, numpy=array([[0.03857117]], dtype=float32)>\n",
      "<tf.Variable 'simple_dense/bias:0' shape=(1,) dtype=float32, numpy=array([0.], dtype=float32)>\n"
     ]
    }
   ],
   "source": [
    "simple_dense = SimpleDense(units=1)\n",
    "print('initial predicted values are', simple_dense(X))\n",
    "print('\\n'.join([f'{var}' for var in simple_dense.trainable_variables]))"
   ]
  },
  {
   "cell_type": "code",
   "execution_count": 6,
   "id": "31ecc328-4077-445a-a712-22f045e5f8ae",
   "metadata": {},
   "outputs": [],
   "source": [
    "model = Sequential([simple_dense])\n",
    "model.compile(loss='mean_squared_error', optimizer=tf.optimizers.SGD())\n",
    "model.fit(X, Y, epochs=5000, verbose=0);"
   ]
  },
  {
   "cell_type": "code",
   "execution_count": 7,
   "id": "e35f44f5-c7fb-4cda-be39-03520fa3d7ee",
   "metadata": {},
   "outputs": [
    {
     "name": "stdout",
     "output_type": "stream",
     "text": [
      "initial values are tf.Tensor(\n",
      "[[ 1.0000075]\n",
      " [ 3.000006 ]\n",
      " [ 5.0000043]\n",
      " [ 7.000003 ]\n",
      " [ 9.000002 ]\n",
      " [11.       ]\n",
      " [12.999998 ]\n",
      " [14.999996 ]\n",
      " [16.999996 ]], shape=(9, 1), dtype=float32)\n",
      "<tf.Variable 'simple_dense/kernel:0' shape=(1, 1) dtype=float32, numpy=array([[1.9999985]], dtype=float32)>\n",
      "<tf.Variable 'simple_dense/bias:0' shape=(1,) dtype=float32, numpy=array([-0.99999094], dtype=float32)>\n",
      "Ground Truth is\n",
      " [[ 1.]\n",
      " [ 3.]\n",
      " [ 5.]\n",
      " [ 7.]\n",
      " [ 9.]\n",
      " [11.]\n",
      " [13.]\n",
      " [15.]\n",
      " [17.]]\n"
     ]
    }
   ],
   "source": [
    "print('initial values are', simple_dense(X))\n",
    "print('\\n'.join([f'{var}' for var in simple_dense.trainable_variables]))\n",
    "print('Ground Truth is\\n', Y)"
   ]
  },
  {
   "cell_type": "code",
   "execution_count": null,
   "id": "c45add91-7189-457d-9c55-de1e1a481504",
   "metadata": {},
   "outputs": [],
   "source": []
  }
 ],
 "metadata": {
  "kernelspec": {
   "display_name": "Python 3 (ipykernel)",
   "language": "python",
   "name": "python3"
  },
  "language_info": {
   "codemirror_mode": {
    "name": "ipython",
    "version": 3
   },
   "file_extension": ".py",
   "mimetype": "text/x-python",
   "name": "python",
   "nbconvert_exporter": "python",
   "pygments_lexer": "ipython3",
   "version": "3.11.4"
  }
 },
 "nbformat": 4,
 "nbformat_minor": 5
}
