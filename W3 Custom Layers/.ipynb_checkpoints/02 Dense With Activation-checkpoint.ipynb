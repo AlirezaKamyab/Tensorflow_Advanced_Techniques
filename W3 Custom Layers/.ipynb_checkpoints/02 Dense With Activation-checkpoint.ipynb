{
 "cells": [
  {
   "cell_type": "code",
   "execution_count": 1,
   "id": "1fa32112-0cf9-4d7b-b0ef-f9d7ac4c8d86",
   "metadata": {},
   "outputs": [],
   "source": [
    "import os\n",
    "os.environ['TF_CPP_MIN_LOG_LEVEL'] = '2'"
   ]
  },
  {
   "cell_type": "code",
   "execution_count": 13,
   "id": "251a2723-bfda-4da8-92ac-58518cd674b9",
   "metadata": {},
   "outputs": [],
   "source": [
    "import tensorflow as tf\n",
    "from tensorflow import keras\n",
    "from keras.layers import Layer, Flatten, Dropout\n",
    "import matplotlib.pyplot as plt\n",
    "\n",
    "physical_devices = tf.config.experimental.list_physical_devices('GPU')\n",
    "tf.config.experimental.set_memory_growth(physical_devices[0], True)"
   ]
  },
  {
   "cell_type": "code",
   "execution_count": 3,
   "id": "c134870a-ea91-42f3-a6be-bf69e38ddf85",
   "metadata": {},
   "outputs": [],
   "source": [
    "class LinearDense(Layer):\n",
    "    def __init__(self, units=32, activation=None):\n",
    "        super(LinearDense, self).__init__()\n",
    "        self.units = units\n",
    "        self.activation = keras.activations.get(activation)\n",
    "\n",
    "    def build(self, input_shape):\n",
    "        normal_dist = tf.random_normal_initializer()\n",
    "        zero_dist = tf.zeros_initializer()\n",
    "        self.w = tf.Variable(name='kernel', initial_value=normal_dist(shape=(input_shape[-1], self.units),\n",
    "                                                                dtype='float32'),\n",
    "                       trainable=True)\n",
    "        self.b = tf.Variable(name='bias', initial_value=zero_dist(shape=(self.units,), dtype='float32'), \n",
    "                       trainable=True)\n",
    "\n",
    "    def call(self, inputs):\n",
    "        linear = tf.matmul(inputs, self.w) + self.b\n",
    "        return self.activation(linear)"
   ]
  },
  {
   "cell_type": "code",
   "execution_count": 10,
   "id": "5589c430-bf0a-4043-a3ef-4cd080216eae",
   "metadata": {},
   "outputs": [],
   "source": [
    "class QuadraticDense(Layer):\n",
    "    def __init__(self, units=32, activation=None):\n",
    "        super(QuadraticDense, self).__init__()\n",
    "        self.units = units\n",
    "        self.activation = keras.activations.get(activation)\n",
    "\n",
    "    def build(self, input_shape):\n",
    "        normal_dist = tf.random_normal_initializer()\n",
    "        zero_dist = tf.zeros_initializer()\n",
    "        self.a = tf.Variable(name='kernel_a', initial_value=normal_dist(shape=(input_shape[-1], self.units), \n",
    "                                                                        dtype='float32'),\n",
    "                            trainable=True)\n",
    "        self.b = tf.Variable(name='kernel_b', initial_value=normal_dist(shape=(input_shape[-1], self.units),\n",
    "                                                                       dtype='float32'),\n",
    "                            trainable=True)\n",
    "        self.c = tf.Variable(name='bias', initial_value=zero_dist(shape=(self.units,), dtype='float32'),\n",
    "                            trainable=True)\n",
    "\n",
    "    def call(self, inputs):\n",
    "        quadratic = tf.matmul(tf.square(inputs), self.a) + tf.matmul(inputs, self.b) + self.c\n",
    "        return self.activation(quadratic)"
   ]
  },
  {
   "cell_type": "markdown",
   "id": "a6b4dfb5-686f-40d1-aad3-b331d1156aed",
   "metadata": {},
   "source": [
    "## Trying them out"
   ]
  },
  {
   "cell_type": "code",
   "execution_count": 5,
   "id": "9dd60309-d1d3-4bd6-b32a-2d0b5f70cfa7",
   "metadata": {},
   "outputs": [],
   "source": [
    "from keras.datasets import mnist"
   ]
  },
  {
   "cell_type": "code",
   "execution_count": 6,
   "id": "5cfa4ee9-0df3-481c-b742-c93310f40d8b",
   "metadata": {},
   "outputs": [
    {
     "name": "stdout",
     "output_type": "stream",
     "text": [
      "Epoch 1/30\n",
      "1875/1875 [==============================] - 4s 2ms/step - loss: 0.3234 - accuracy: 0.9082 - val_loss: 0.1546 - val_accuracy: 0.9557\n",
      "Epoch 2/30\n",
      "1875/1875 [==============================] - 3s 1ms/step - loss: 0.1605 - accuracy: 0.9534 - val_loss: 0.1221 - val_accuracy: 0.9652\n",
      "Epoch 3/30\n",
      "1875/1875 [==============================] - 3s 1ms/step - loss: 0.1261 - accuracy: 0.9637 - val_loss: 0.0991 - val_accuracy: 0.9714\n",
      "Epoch 4/30\n",
      "1875/1875 [==============================] - 3s 1ms/step - loss: 0.1091 - accuracy: 0.9687 - val_loss: 0.0896 - val_accuracy: 0.9747\n",
      "Epoch 5/30\n",
      "1875/1875 [==============================] - 3s 1ms/step - loss: 0.0965 - accuracy: 0.9723 - val_loss: 0.0880 - val_accuracy: 0.9771\n",
      "Epoch 6/30\n",
      "1875/1875 [==============================] - 3s 1ms/step - loss: 0.0871 - accuracy: 0.9746 - val_loss: 0.0846 - val_accuracy: 0.9773\n",
      "Epoch 7/30\n",
      "1875/1875 [==============================] - 3s 1ms/step - loss: 0.0826 - accuracy: 0.9761 - val_loss: 0.0806 - val_accuracy: 0.9780\n",
      "Epoch 8/30\n",
      "1875/1875 [==============================] - 3s 1ms/step - loss: 0.0768 - accuracy: 0.9780 - val_loss: 0.0864 - val_accuracy: 0.9778\n",
      "Epoch 9/30\n",
      "1875/1875 [==============================] - 3s 1ms/step - loss: 0.0733 - accuracy: 0.9791 - val_loss: 0.0781 - val_accuracy: 0.9794\n",
      "Epoch 10/30\n",
      "1875/1875 [==============================] - 3s 2ms/step - loss: 0.0705 - accuracy: 0.9806 - val_loss: 0.0857 - val_accuracy: 0.9789\n",
      "Epoch 11/30\n",
      "1875/1875 [==============================] - 3s 2ms/step - loss: 0.0680 - accuracy: 0.9816 - val_loss: 0.0800 - val_accuracy: 0.9792\n",
      "Epoch 12/30\n",
      "1875/1875 [==============================] - 3s 1ms/step - loss: 0.0635 - accuracy: 0.9822 - val_loss: 0.0837 - val_accuracy: 0.9798\n",
      "Epoch 13/30\n",
      "1875/1875 [==============================] - 3s 2ms/step - loss: 0.0631 - accuracy: 0.9821 - val_loss: 0.0794 - val_accuracy: 0.9806\n",
      "Epoch 14/30\n",
      "1875/1875 [==============================] - 3s 2ms/step - loss: 0.0585 - accuracy: 0.9838 - val_loss: 0.0872 - val_accuracy: 0.9795\n",
      "Epoch 15/30\n",
      "1875/1875 [==============================] - 3s 2ms/step - loss: 0.0574 - accuracy: 0.9843 - val_loss: 0.0882 - val_accuracy: 0.9805\n",
      "Epoch 16/30\n",
      "1875/1875 [==============================] - 3s 1ms/step - loss: 0.0547 - accuracy: 0.9850 - val_loss: 0.0844 - val_accuracy: 0.9809\n",
      "Epoch 17/30\n",
      "1875/1875 [==============================] - 3s 2ms/step - loss: 0.0554 - accuracy: 0.9841 - val_loss: 0.0847 - val_accuracy: 0.9802\n",
      "Epoch 18/30\n",
      "1875/1875 [==============================] - 3s 2ms/step - loss: 0.0527 - accuracy: 0.9855 - val_loss: 0.0833 - val_accuracy: 0.9808\n",
      "Epoch 19/30\n",
      "1875/1875 [==============================] - 3s 2ms/step - loss: 0.0492 - accuracy: 0.9866 - val_loss: 0.0844 - val_accuracy: 0.9805\n",
      "Epoch 20/30\n",
      "1875/1875 [==============================] - 3s 2ms/step - loss: 0.0486 - accuracy: 0.9862 - val_loss: 0.0824 - val_accuracy: 0.9805\n",
      "Epoch 21/30\n",
      "1875/1875 [==============================] - 3s 1ms/step - loss: 0.0513 - accuracy: 0.9858 - val_loss: 0.0913 - val_accuracy: 0.9800\n",
      "Epoch 22/30\n",
      "1875/1875 [==============================] - 3s 2ms/step - loss: 0.0475 - accuracy: 0.9864 - val_loss: 0.0851 - val_accuracy: 0.9812\n",
      "Epoch 23/30\n",
      "1875/1875 [==============================] - 3s 2ms/step - loss: 0.0449 - accuracy: 0.9868 - val_loss: 0.0851 - val_accuracy: 0.9819\n",
      "Epoch 24/30\n",
      "1875/1875 [==============================] - 3s 1ms/step - loss: 0.0429 - accuracy: 0.9875 - val_loss: 0.0877 - val_accuracy: 0.9804\n",
      "Epoch 25/30\n",
      "1875/1875 [==============================] - 3s 2ms/step - loss: 0.0436 - accuracy: 0.9875 - val_loss: 0.0884 - val_accuracy: 0.9815\n",
      "Epoch 26/30\n",
      "1875/1875 [==============================] - 3s 1ms/step - loss: 0.0434 - accuracy: 0.9882 - val_loss: 0.0865 - val_accuracy: 0.9800\n",
      "Epoch 27/30\n",
      "1875/1875 [==============================] - 3s 1ms/step - loss: 0.0438 - accuracy: 0.9882 - val_loss: 0.0976 - val_accuracy: 0.9802\n",
      "Epoch 28/30\n",
      "1875/1875 [==============================] - 3s 2ms/step - loss: 0.0426 - accuracy: 0.9882 - val_loss: 0.0890 - val_accuracy: 0.9818\n",
      "Epoch 29/30\n",
      "1875/1875 [==============================] - 3s 2ms/step - loss: 0.0400 - accuracy: 0.9890 - val_loss: 0.0889 - val_accuracy: 0.9820\n",
      "Epoch 30/30\n",
      "1875/1875 [==============================] - 3s 2ms/step - loss: 0.0395 - accuracy: 0.9891 - val_loss: 0.0923 - val_accuracy: 0.9812\n"
     ]
    }
   ],
   "source": [
    "(x_train, y_train), (x_val, y_val) = mnist.load_data()\n",
    "x_train = x_train / 255.0\n",
    "x_val = x_val / 255.0\n",
    "\n",
    "linear_model = tf.keras.Sequential([\n",
    "    Flatten(),\n",
    "    LinearDense(units=128, activation='relu'),\n",
    "    Dropout(0.2),\n",
    "    LinearDense(units=10, activation='softmax')\n",
    "])\n",
    "\n",
    "linear_model.compile(loss='sparse_categorical_crossentropy',\n",
    "                    optimizer='RMSProp',\n",
    "                    metrics=['accuracy'])\n",
    "\n",
    "linear_history = linear_model.fit(x_train, y_train, epochs=30, validation_data=(x_val, y_val))"
   ]
  },
  {
   "cell_type": "code",
   "execution_count": 11,
   "id": "fb53ad1f-269b-4b68-b3f3-11b37a1681f9",
   "metadata": {},
   "outputs": [
    {
     "name": "stdout",
     "output_type": "stream",
     "text": [
      "Epoch 1/30\n",
      "1875/1875 [==============================] - 4s 2ms/step - loss: 0.2809 - accuracy: 0.9233 - val_loss: 0.1645 - val_accuracy: 0.9527\n",
      "Epoch 2/30\n",
      "1875/1875 [==============================] - 3s 2ms/step - loss: 0.1678 - accuracy: 0.9588 - val_loss: 0.1144 - val_accuracy: 0.9704\n",
      "Epoch 3/30\n",
      "1875/1875 [==============================] - 3s 2ms/step - loss: 0.1511 - accuracy: 0.9648 - val_loss: 0.1186 - val_accuracy: 0.9703\n",
      "Epoch 4/30\n",
      "1875/1875 [==============================] - 3s 2ms/step - loss: 0.1394 - accuracy: 0.9691 - val_loss: 0.1048 - val_accuracy: 0.9759\n",
      "Epoch 5/30\n",
      "1875/1875 [==============================] - 3s 2ms/step - loss: 0.1306 - accuracy: 0.9720 - val_loss: 0.1275 - val_accuracy: 0.9723\n",
      "Epoch 6/30\n",
      "1875/1875 [==============================] - 3s 2ms/step - loss: 0.1227 - accuracy: 0.9741 - val_loss: 0.1201 - val_accuracy: 0.9760\n",
      "Epoch 7/30\n",
      "1875/1875 [==============================] - 3s 2ms/step - loss: 0.1180 - accuracy: 0.9769 - val_loss: 0.1215 - val_accuracy: 0.9777\n",
      "Epoch 8/30\n",
      "1875/1875 [==============================] - 3s 2ms/step - loss: 0.1195 - accuracy: 0.9771 - val_loss: 0.1437 - val_accuracy: 0.9757\n",
      "Epoch 9/30\n",
      "1875/1875 [==============================] - 3s 2ms/step - loss: 0.1134 - accuracy: 0.9783 - val_loss: 0.1441 - val_accuracy: 0.9771\n",
      "Epoch 10/30\n",
      "1875/1875 [==============================] - 3s 2ms/step - loss: 0.1191 - accuracy: 0.9791 - val_loss: 0.1721 - val_accuracy: 0.9752\n",
      "Epoch 11/30\n",
      "1875/1875 [==============================] - 3s 2ms/step - loss: 0.1123 - accuracy: 0.9800 - val_loss: 0.1714 - val_accuracy: 0.9774\n",
      "Epoch 12/30\n",
      "1875/1875 [==============================] - 4s 2ms/step - loss: 0.1082 - accuracy: 0.9813 - val_loss: 0.1733 - val_accuracy: 0.9762\n",
      "Epoch 13/30\n",
      "1875/1875 [==============================] - 4s 2ms/step - loss: 0.1122 - accuracy: 0.9819 - val_loss: 0.1726 - val_accuracy: 0.9747\n",
      "Epoch 14/30\n",
      "1875/1875 [==============================] - 3s 2ms/step - loss: 0.1139 - accuracy: 0.9824 - val_loss: 0.1727 - val_accuracy: 0.9770\n",
      "Epoch 15/30\n",
      "1875/1875 [==============================] - 3s 2ms/step - loss: 0.1105 - accuracy: 0.9823 - val_loss: 0.1970 - val_accuracy: 0.9759\n",
      "Epoch 16/30\n",
      "1875/1875 [==============================] - 3s 2ms/step - loss: 0.1053 - accuracy: 0.9826 - val_loss: 0.1941 - val_accuracy: 0.9759\n",
      "Epoch 17/30\n",
      "1875/1875 [==============================] - 3s 2ms/step - loss: 0.1053 - accuracy: 0.9831 - val_loss: 0.1846 - val_accuracy: 0.9768\n",
      "Epoch 18/30\n",
      "1875/1875 [==============================] - 3s 2ms/step - loss: 0.1056 - accuracy: 0.9840 - val_loss: 0.2172 - val_accuracy: 0.9753\n",
      "Epoch 19/30\n",
      "1875/1875 [==============================] - 3s 2ms/step - loss: 0.1120 - accuracy: 0.9841 - val_loss: 0.2176 - val_accuracy: 0.9772\n",
      "Epoch 20/30\n",
      "1875/1875 [==============================] - 3s 2ms/step - loss: 0.1051 - accuracy: 0.9852 - val_loss: 0.2141 - val_accuracy: 0.9782\n",
      "Epoch 21/30\n",
      "1875/1875 [==============================] - 3s 2ms/step - loss: 0.1035 - accuracy: 0.9854 - val_loss: 0.2350 - val_accuracy: 0.9770\n",
      "Epoch 22/30\n",
      "1875/1875 [==============================] - 3s 2ms/step - loss: 0.1064 - accuracy: 0.9846 - val_loss: 0.2382 - val_accuracy: 0.9755\n",
      "Epoch 23/30\n",
      "1875/1875 [==============================] - 3s 2ms/step - loss: 0.1060 - accuracy: 0.9847 - val_loss: 0.2375 - val_accuracy: 0.9751\n",
      "Epoch 24/30\n",
      "1875/1875 [==============================] - 3s 2ms/step - loss: 0.1029 - accuracy: 0.9859 - val_loss: 0.2699 - val_accuracy: 0.9749\n",
      "Epoch 25/30\n",
      "1875/1875 [==============================] - 3s 2ms/step - loss: 0.1036 - accuracy: 0.9859 - val_loss: 0.2634 - val_accuracy: 0.9776\n",
      "Epoch 26/30\n",
      "1875/1875 [==============================] - 3s 2ms/step - loss: 0.0961 - accuracy: 0.9871 - val_loss: 0.2783 - val_accuracy: 0.9760\n",
      "Epoch 27/30\n",
      "1875/1875 [==============================] - 3s 2ms/step - loss: 0.1112 - accuracy: 0.9861 - val_loss: 0.2710 - val_accuracy: 0.9757\n",
      "Epoch 28/30\n",
      "1875/1875 [==============================] - 3s 2ms/step - loss: 0.1077 - accuracy: 0.9865 - val_loss: 0.2623 - val_accuracy: 0.9769\n",
      "Epoch 29/30\n",
      "1875/1875 [==============================] - 3s 2ms/step - loss: 0.0987 - accuracy: 0.9868 - val_loss: 0.2698 - val_accuracy: 0.9775\n",
      "Epoch 30/30\n",
      "1875/1875 [==============================] - 3s 2ms/step - loss: 0.1066 - accuracy: 0.9865 - val_loss: 0.2755 - val_accuracy: 0.9763\n"
     ]
    }
   ],
   "source": [
    "quadratic_model = tf.keras.Sequential([\n",
    "    Flatten(),\n",
    "    QuadraticDense(units=128, activation='relu'),\n",
    "    Dropout(0.2),\n",
    "    QuadraticDense(units=10, activation='softmax')\n",
    "])\n",
    "\n",
    "quadratic_model.compile(loss='sparse_categorical_crossentropy',\n",
    "                    optimizer='RMSProp',\n",
    "                    metrics=['accuracy'])\n",
    "\n",
    "quadratic_history = quadratic_model.fit(x_train, y_train, epochs=30, validation_data=(x_val, y_val))"
   ]
  },
  {
   "cell_type": "code",
   "execution_count": 14,
   "id": "7a0d1918-e132-4259-9dca-7cf05cc7080b",
   "metadata": {},
   "outputs": [
    {
     "data": {
      "image/png": "[encoded data removed]",
      "text/plain": [
       "<Figure size 640x480 with 1 Axes>"
      ]
     },
     "metadata": {},
     "output_type": "display_data"
    }
   ],
   "source": [
    "fig, ax = plt.subplots()\n",
    "ax.plot(linear_history.epoch, linear_history.history['loss'], label='linear model')\n",
    "ax.plot(quadratic_history.epoch, quadratic_history.history['loss'], label='quadratic model')\n",
    "ax.set_xlabel('epoch')\n",
    "ax.set_ylabel('loss')\n",
    "ax.set_title('Loss per epoch');\n",
    "ax.legend();"
   ]
  },
  {
   "cell_type": "code",
   "execution_count": null,
   "id": "715aca6b-edd9-4d20-ba06-cde05df6f757",
   "metadata": {},
   "outputs": [],
   "source": []
  }
 ],
 "metadata": {
  "kernelspec": {
   "display_name": "Python 3 (ipykernel)",
   "language": "python",
   "name": "python3"
  },
  "language_info": {
   "codemirror_mode": {
    "name": "ipython",
    "version": 3
   },
   "file_extension": ".py",
   "mimetype": "text/x-python",
   "name": "python",
   "nbconvert_exporter": "python",
   "pygments_lexer": "ipython3",
   "version": "3.11.4"
  }
 },
 "nbformat": 4,
 "nbformat_minor": 5
}
