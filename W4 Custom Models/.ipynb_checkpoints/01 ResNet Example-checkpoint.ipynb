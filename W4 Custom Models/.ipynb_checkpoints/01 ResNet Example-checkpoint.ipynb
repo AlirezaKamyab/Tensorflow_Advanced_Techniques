{
 "cells": [
  {
   "cell_type": "code",
   "execution_count": 1,
   "id": "0da813e5-7d03-4ad2-ab53-9c48b7b547e8",
   "metadata": {},
   "outputs": [],
   "source": [
    "import os\n",
    "os.environ['TF_CPP_MIN_LOG_LEVEL'] = '2'"
   ]
  },
  {
   "cell_type": "code",
   "execution_count": 2,
   "id": "aa0c4c4a-8184-4001-afc2-0f36f4db8c26",
   "metadata": {},
   "outputs": [],
   "source": [
    "import tensorflow as tf\n",
    "from tensorflow import keras\n",
    "import numpy as np\n",
    "import matplotlib.pyplot as plt\n",
    "from keras.layers import Layer, Conv2D, MaxPooling2D, BatchNormalization, GlobalAveragePooling2D, Activation\n",
    "from keras.layers import Add, Dense\n",
    "from keras.models import Model\n",
    "import tensorflow_datasets as tfds\n",
    "\n",
    "physical_devices = tf.config.experimental.list_physical_devices('GPU')\n",
    "tf.config.experimental.set_memory_growth(physical_devices[0], True)"
   ]
  },
  {
   "cell_type": "code",
   "execution_count": 3,
   "id": "2a99aecc-15b6-4287-9bf3-d2949148c46f",
   "metadata": {},
   "outputs": [],
   "source": [
    "class IdentityBlock(Model):\n",
    "    def __init__(self, filters, kernel_size, **kwargs):\n",
    "        super(IdentityBlock, self).__init__(**kwargs)\n",
    "\n",
    "        self.conv1 = Conv2D(filters=filters, kernel_size=kernel_size, padding='same')\n",
    "        self.bn1 = BatchNormalization()\n",
    "        self.conv2 = Conv2D(filters=filters, kernel_size=kernel_size, padding='same')\n",
    "        self.bn2 = BatchNormalization()\n",
    "        self.act = Activation('relu')\n",
    "        self.add = Add()\n",
    "\n",
    "    def call(self, inputs):\n",
    "        x = self.conv1(inputs)\n",
    "        x = self.bn1(x)\n",
    "        x = self.act(x)\n",
    "\n",
    "        x = self.conv2(x)\n",
    "        x = self.bn2(x)\n",
    "\n",
    "        x = self.add([x, inputs])\n",
    "        x = self.act(x)\n",
    "        return x"
   ]
  },
  {
   "cell_type": "code",
   "execution_count": 4,
   "id": "a211c05d-c087-4c24-b8d4-84a060dd0956",
   "metadata": {},
   "outputs": [],
   "source": [
    "class ResNet(Model):\n",
    "    def __init__(self, num_classes, **kwargs):\n",
    "        super(ResNet, self).__init__(**kwargs)\n",
    "\n",
    "        self.conv1 = Conv2D(filters=64, kernel_size=7, padding='same')\n",
    "        self.bn1 = BatchNormalization()\n",
    "        self.maxpooling = MaxPooling2D(pool_size=(3, 3))\n",
    "        self.act = Activation('relu')\n",
    "\n",
    "        self.identity1 = IdentityBlock(64, 3)\n",
    "        self.identity2 = IdentityBlock(64, 3)\n",
    "\n",
    "        self.globalavgpooling = GlobalAveragePooling2D()\n",
    "        self.classifier = Dense(units=num_classes, activation='softmax')\n",
    "\n",
    "    def call(self, inputs):\n",
    "        x = self.conv1(inputs)\n",
    "        x = self.bn1(x)\n",
    "        x = self.maxpooling(x)\n",
    "\n",
    "        x = self.identity1(x)\n",
    "        x = self.identity2(x)\n",
    "\n",
    "        x = self.globalavgpooling(x)\n",
    "        x = self.classifier(x)\n",
    "        return x"
   ]
  },
  {
   "cell_type": "code",
   "execution_count": 5,
   "id": "30286ea7-b14f-4b95-bc30-dbc4f6cfa9dc",
   "metadata": {},
   "outputs": [],
   "source": [
    "def preprocess(features):\n",
    "    return tf.cast(features['image'], tf.float32) / 255., features['label']"
   ]
  },
  {
   "cell_type": "code",
   "execution_count": 6,
   "id": "c6f96db8-e86f-4deb-a12a-8eb4c5bea716",
   "metadata": {},
   "outputs": [
    {
     "name": "stdout",
     "output_type": "stream",
     "text": [
      "Epoch 1/3\n",
      "1875/1875 [==============================] - 11s 4ms/step - loss: 0.1314 - accuracy: 0.9629\n",
      "Epoch 2/3\n",
      "1875/1875 [==============================] - 6s 3ms/step - loss: 0.0454 - accuracy: 0.9862\n",
      "Epoch 3/3\n",
      "1875/1875 [==============================] - 6s 3ms/step - loss: 0.0322 - accuracy: 0.9901\n"
     ]
    },
    {
     "data": {
      "text/plain": [
       "<keras.src.callbacks.History at 0x7fcc132eb050>"
      ]
     },
     "execution_count": 6,
     "metadata": {},
     "output_type": "execute_result"
    }
   ],
   "source": [
    "model = ResNet(10)\n",
    "model.compile(\n",
    "    loss='sparse_categorical_crossentropy',\n",
    "    optimizer='rmsprop', \n",
    "    metrics=['accuracy']\n",
    ")\n",
    "\n",
    "dataset = tfds.load('mnist', split=tfds.Split.TRAIN)\n",
    "dataset = dataset.map(preprocess).batch(32)\n",
    "\n",
    "model.fit(dataset, epochs=3)"
   ]
  },
  {
   "cell_type": "code",
   "execution_count": null,
   "id": "d52c9d34-24b1-4ab9-8e41-b2e5e66d65a6",
   "metadata": {},
   "outputs": [],
   "source": []
  }
 ],
 "metadata": {
  "kernelspec": {
   "display_name": "Python 3 (ipykernel)",
   "language": "python",
   "name": "python3"
  },
  "language_info": {
   "codemirror_mode": {
    "name": "ipython",
    "version": 3
   },
   "file_extension": ".py",
   "mimetype": "text/x-python",
   "name": "python",
   "nbconvert_exporter": "python",
   "pygments_lexer": "ipython3",
   "version": "3.11.4"
  }
 },
 "nbformat": 4,
 "nbformat_minor": 5
}
