{
 "cells": [
  {
   "cell_type": "code",
   "execution_count": 1,
   "id": "4eebf6a3-4a2a-4598-a213-a87b7f324e67",
   "metadata": {},
   "outputs": [],
   "source": [
    "import os\n",
    "os.environ['TF_CPP_MIN_LOG_LEVEL'] = '2'"
   ]
  },
  {
   "cell_type": "code",
   "execution_count": 2,
   "id": "379d2971-8a69-494b-b4ff-0e7ea46f32c2",
   "metadata": {},
   "outputs": [],
   "source": [
    "import tensorflow as tf\n",
    "from tensorflow import keras\n",
    "import numpy as np\n",
    "from keras.layers import Dense, Input\n",
    "from keras.models import Model\n",
    "from keras.optimizers import RMSprop\n",
    "from keras.losses import Loss\n",
    "import matplotlib.pyplot as plt\n",
    "\n",
    "# Set up gpu\n",
    "physical_devices = tf.config.experimental.list_physical_devices('GPU')\n",
    "tf.config.experimental.set_memory_growth(physical_devices[0], True)"
   ]
  },
  {
   "cell_type": "code",
   "execution_count": 3,
   "id": "793cb343-dc13-43e3-9b9a-2b029fae2053",
   "metadata": {},
   "outputs": [],
   "source": [
    "X = np.arange(0, 10).astype('float32')\n",
    "Y = (3 * X - 2).astype('float32')"
   ]
  },
  {
   "cell_type": "code",
   "execution_count": 4,
   "id": "25d26248-85f8-4fc9-9dc7-fb4c07e096de",
   "metadata": {},
   "outputs": [
    {
     "name": "stdout",
     "output_type": "stream",
     "text": [
      "Model: \"model\"\n",
      "_________________________________________________________________\n",
      " Layer (type)                Output Shape              Param #   \n",
      "=================================================================\n",
      " input_1 (InputLayer)        [(None, 1)]               0         \n",
      "                                                                 \n",
      " dense1 (Dense)              (None, 1)                 2         \n",
      "                                                                 \n",
      "=================================================================\n",
      "Total params: 2 (8.00 Byte)\n",
      "Trainable params: 2 (8.00 Byte)\n",
      "Non-trainable params: 0 (0.00 Byte)\n",
      "_________________________________________________________________\n"
     ]
    }
   ],
   "source": [
    "input = Input(shape=(1,))\n",
    "dense1 = Dense(units=1, name='dense1')(input)\n",
    "model = Model(inputs=input, outputs=dense1)\n",
    "model.summary()"
   ]
  },
  {
   "cell_type": "markdown",
   "id": "e3693b1b-c3c5-44f3-ba62-29d2018a54c2",
   "metadata": {},
   "source": [
    "## Defining HuberLoss\n",
    "$$\n",
    "\\begin{equation}\n",
    "    L_\\delta = \n",
    "        \\begin{cases}\n",
    "            \\frac{1}{2}a^2\\quad & \\lvert{a}\\rvert\\le\\delta\\\\\n",
    "            \\delta.(\\lvert{a}\\rvert - \\frac{1}{2}\\delta)\\quad& \\text{otherwise}\n",
    "        \\end{cases}\n",
    "\\end{equation}\n",
    "$$\n",
    "Where $a = y - f(x)$"
   ]
  },
  {
   "cell_type": "code",
   "execution_count": 5,
   "id": "2f0a2874-ff30-4b38-bb0e-40d04035f3e7",
   "metadata": {},
   "outputs": [],
   "source": [
    "def huber_loss_with_threshold(threshold):\n",
    "    @tf.function\n",
    "    def huber_loss(y_true, y_pred):\n",
    "        a = y_true - y_pred\n",
    "        case_1 = 0.5 * tf.square(a)\n",
    "        case_2 = threshold * (tf.abs(a) - 0.5 * threshold)\n",
    "        return tf.where(tf.abs(a) <= threshold, case_1, case_2)\n",
    "    return huber_loss"
   ]
  },
  {
   "cell_type": "code",
   "execution_count": 6,
   "id": "1a76efed-1e94-4118-9fa3-3185f123e644",
   "metadata": {},
   "outputs": [
    {
     "name": "stdout",
     "output_type": "stream",
     "text": [
      "1/1 [==============================] - 0s 71ms/step - loss: 0.3674\n"
     ]
    }
   ],
   "source": [
    "model.compile(loss=huber_loss_with_threshold(1), optimizer= RMSprop())\n",
    "hist = model.fit(X, Y, epochs=2000, verbose=0)\n",
    "model.evaluate(X, Y);"
   ]
  },
  {
   "cell_type": "code",
   "execution_count": 7,
   "id": "97296fa7-d0d7-4429-9589-dd296f50c264",
   "metadata": {},
   "outputs": [
    {
     "data": {
      "image/png": "[encoded data removed]",
      "text/plain": [
       "<Figure size 640x480 with 1 Axes>"
      ]
     },
     "metadata": {},
     "output_type": "display_data"
    }
   ],
   "source": [
    "fig, ax = plt.subplots()\n",
    "Xs = np.linspace(0, 100)\n",
    "Ys = 3 * Xs - 2\n",
    "Ps = model.predict(Xs, verbose=0)\n",
    "ax.plot(Xs, Ys, linestyle='--', label='ground truth');\n",
    "ax.plot(Xs, Ys, label='prediction', linestyle=':', linewidth=2, alpha=0.9);\n",
    "ax.legend();\n",
    "ax.set_title('Prediction vs Ground Truth')\n",
    "ax.set_xlabel('Xs');\n",
    "ax.set_ylabel('Ys');"
   ]
  },
  {
   "cell_type": "code",
   "execution_count": 8,
   "id": "bb154657-55be-4c7a-8331-58b707b6fd8b",
   "metadata": {},
   "outputs": [],
   "source": [
    "class HuberLoss(Loss):\n",
    "    def __init__(self, threshold):\n",
    "        super(HuberLoss, self).__init__()\n",
    "        self.threshold = threshold\n",
    "\n",
    "    def call(self, y_true, y_pred):\n",
    "        a = y_true - y_pred\n",
    "        case_1 = 0.5 * tf.square(a)\n",
    "        case_2 = self.threshold * (tf.abs(a) - 0.5 * self.threshold)\n",
    "        return tf.where(tf.abs(a) <= self.threshold, case_1, case_2)"
   ]
  },
  {
   "cell_type": "code",
   "execution_count": 9,
   "id": "63f7a70f-d513-46d0-9fa9-732febebfea6",
   "metadata": {},
   "outputs": [
    {
     "name": "stdout",
     "output_type": "stream",
     "text": [
      "1/1 [==============================] - 0s 88ms/step - loss: 0.3506\n"
     ]
    }
   ],
   "source": [
    "input = Input(shape=(1,))\n",
    "dense1 = Dense(units=1, name='dense1')(input)\n",
    "model = Model(inputs=input, outputs=dense1)\n",
    "model.compile(loss=HuberLoss(1), optimizer=RMSprop())\n",
    "model.fit(X, Y, epochs=2000, verbose=0);\n",
    "model.evaluate(X, Y);"
   ]
  },
  {
   "cell_type": "markdown",
   "id": "cc2fa5ca-21e2-43f1-a7d6-d5f4c7ff3c3b",
   "metadata": {},
   "source": [
    "## Contrastive Loss\n",
    "\n",
    "$$\n",
    "    YD^2 + (1 - Y)\\max(\\text{margin} - D, 0)^2\n",
    "$$"
   ]
  },
  {
   "cell_type": "code",
   "execution_count": 10,
   "id": "e3f53d38-379a-4e04-9525-1093fa8c503d",
   "metadata": {},
   "outputs": [],
   "source": [
    "class ContrastiveLoss(Loss):\n",
    "    def __init__(self, margin):\n",
    "        super(ContrastiveLoss, self).__init__()\n",
    "        self.margin = margin\n",
    "\n",
    "    def call(self, y_true, y_pred):\n",
    "        error = y_true - y_pred\n",
    "        square_error = tf.square(error)\n",
    "        square_margin_diff = tf.square(self.margin - error)\n",
    "        return y_true * square_error + (1 - y_true) * tf.square(tf.maximum(square_margin_diff, 0))"
   ]
  }
 ],
 "metadata": {
  "kernelspec": {
   "display_name": "Python 3 (ipykernel)",
   "language": "python",
   "name": "python3"
  },
  "language_info": {
   "codemirror_mode": {
    "name": "ipython",
    "version": 3
   },
   "file_extension": ".py",
   "mimetype": "text/x-python",
   "name": "python",
   "nbconvert_exporter": "python",
   "pygments_lexer": "ipython3",
   "version": "3.11.4"
  }
 },
 "nbformat": 4,
 "nbformat_minor": 5
}
