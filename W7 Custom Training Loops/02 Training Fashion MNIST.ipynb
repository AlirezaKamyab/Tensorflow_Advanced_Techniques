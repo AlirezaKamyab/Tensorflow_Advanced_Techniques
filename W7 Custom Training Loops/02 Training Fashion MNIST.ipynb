{
 "cells": [
  {
   "cell_type": "code",
   "execution_count": 1,
   "id": "deaa7275-c430-4fd4-9946-c8b770771e7e",
   "metadata": {},
   "outputs": [],
   "source": [
    "import os\n",
    "os.environ['TF_CPP_MIN_LOG_LEVEL'] = '2'"
   ]
  },
  {
   "cell_type": "code",
   "execution_count": 2,
   "id": "b72952bc-fd85-43e0-b9d9-1f645b212100",
   "metadata": {},
   "outputs": [],
   "source": [
    "import numpy as np\n",
    "import matplotlib.pyplot as plt\n",
    "import tensorflow as tf\n",
    "from tensorflow import keras\n",
    "from keras.layers import Dense, Input\n",
    "from keras.models import Model\n",
    "import tensorflow_datasets as tfds\n",
    "from tqdm import tqdm\n",
    "\n",
    "physical_devices = tf.config.experimental.list_physical_devices('GPU')\n",
    "tf.config.experimental.set_memory_growth(physical_devices[0], True)"
   ]
  },
  {
   "cell_type": "code",
   "execution_count": 3,
   "id": "0011402d-cc69-44e5-bedd-3ea6cd7a90bd",
   "metadata": {},
   "outputs": [],
   "source": [
    "train_data, info = tfds.load('fashion_mnist', split='train', with_info=True)\n",
    "test_data = tfds.load('fashion_mnist', split='test')"
   ]
  },
  {
   "cell_type": "code",
   "execution_count": 4,
   "id": "942a1cd1-d181-492c-8e1f-92856e20ebfd",
   "metadata": {},
   "outputs": [],
   "source": [
    "def format_image(data):\n",
    "    image = data['image']\n",
    "    image = tf.reshape(image, (-1, ))\n",
    "    image = tf.cast(image, tf.float32)\n",
    "    image = image / 255.0\n",
    "    return image, data['label']"
   ]
  },
  {
   "cell_type": "markdown",
   "id": "706cbde4-8aba-41a6-bf76-f02064e1ef64",
   "metadata": {},
   "source": [
    "Create a pipeline that formates images"
   ]
  },
  {
   "cell_type": "code",
   "execution_count": 5,
   "id": "43238481-2cb1-4870-8878-4aa8f26475aa",
   "metadata": {},
   "outputs": [],
   "source": [
    "train_data = train_data.map(format_image)\n",
    "test_data = test_data.map(format_image)"
   ]
  },
  {
   "cell_type": "code",
   "execution_count": 6,
   "id": "13e28009-5d90-4864-b3c1-b38476ab4c08",
   "metadata": {},
   "outputs": [],
   "source": [
    "batch_size = 64\n",
    "train = train_data.shuffle(buffer_size=1024).batch(batch_size)\n",
    "test = test_data.batch(batch_size)"
   ]
  },
  {
   "cell_type": "markdown",
   "id": "b49387c0-8c65-4a9c-a865-70cb914374ff",
   "metadata": {},
   "source": [
    "## Define the model"
   ]
  },
  {
   "cell_type": "code",
   "execution_count": 7,
   "id": "22e5b277-2795-447c-997d-53c4e0821aed",
   "metadata": {},
   "outputs": [],
   "source": [
    "def base_model():\n",
    "    inputs = Input(shape=(784, ), name='input')\n",
    "    x = Dense(units=64, activation='relu', name='dense1')(inputs)\n",
    "    x = Dense(units=64, activation='relu', name='dense2')(x)\n",
    "    x = Dense(units=10, activation='softmax', name='output')(x)\n",
    "    return Model(inputs=inputs, outputs=x)"
   ]
  },
  {
   "cell_type": "markdown",
   "id": "f185a288-bedb-496f-890e-f61b1abb5a13",
   "metadata": {},
   "source": [
    "### Define loss and optimizer"
   ]
  },
  {
   "cell_type": "code",
   "execution_count": 8,
   "id": "c314a804-1519-425c-bd7b-5278513bbf5b",
   "metadata": {},
   "outputs": [],
   "source": [
    "loss_func = keras.losses.SparseCategoricalCrossentropy()\n",
    "optimizer = keras.optimizers.Adam()"
   ]
  },
  {
   "cell_type": "markdown",
   "id": "af0d4427-09bc-48f6-8798-3c0806ec4d07",
   "metadata": {},
   "source": [
    "### Define Metrics"
   ]
  },
  {
   "cell_type": "code",
   "execution_count": 9,
   "id": "f5c531b8-fe7e-484b-a3ac-9bf4a4070009",
   "metadata": {},
   "outputs": [],
   "source": [
    "train_acc_metric = keras.metrics.SparseCategoricalAccuracy()\n",
    "test_acc_metric = keras.metrics.SparseCategoricalAccuracy()"
   ]
  },
  {
   "cell_type": "markdown",
   "id": "424a4246-f651-4ab5-a865-df40ff33422b",
   "metadata": {},
   "source": [
    "## Building training loop"
   ]
  },
  {
   "cell_type": "code",
   "execution_count": 10,
   "id": "c7788cb5-5230-48cc-8350-503c275b9205",
   "metadata": {},
   "outputs": [],
   "source": [
    "@tf.function(reduce_retracing=False)\n",
    "def apply_gradients(optimizer, model, x, y):\n",
    "    with tf.GradientTape() as tape:\n",
    "        logits = model(x)\n",
    "        loss = loss_func(y, logits)\n",
    "    grads = tape.gradient(loss, model.trainable_weights)\n",
    "    optimizer.apply_gradients(zip(grads, model.trainable_weights))\n",
    "    return logits, loss"
   ]
  },
  {
   "cell_type": "code",
   "execution_count": 11,
   "id": "1a857871-5367-4b86-a65c-644c101e744b",
   "metadata": {},
   "outputs": [],
   "source": [
    "def training_step():\n",
    "    losses = []\n",
    "    pbar = tqdm(total=len(list(enumerate(train))), position=0, leave=True, bar_format='{l_bar}{bar}| {n_fmt}/{total_fmt}')\n",
    "\n",
    "    for step, (x_train_batch, y_train_batch) in enumerate(train):\n",
    "        logits, loss = apply_gradients(optimizer, model, x_train_batch, y_train_batch)\n",
    "        losses.append(loss)\n",
    "        train_acc_metric(y_train_batch, logits)\n",
    "        pbar.set_description(f'training loss for step {step}: {loss:0.4e}')\n",
    "        pbar.update()\n",
    "    return losses"
   ]
  },
  {
   "cell_type": "markdown",
   "id": "58cd6e64-b6b0-474d-a485-0255a15255ba",
   "metadata": {},
   "source": [
    "### Also define validation loop"
   ]
  },
  {
   "cell_type": "code",
   "execution_count": 12,
   "id": "1a3a9f7f-75ad-456a-bc7b-fa927f0bae37",
   "metadata": {},
   "outputs": [],
   "source": [
    "def validation_step():\n",
    "    losses = []\n",
    "    for x_test, y_test in test:\n",
    "        logits = model(x_test)\n",
    "        loss = loss_func(y_test, logits)\n",
    "        losses.append(loss)\n",
    "        test_acc_metric(y_test, logits)\n",
    "    return losses"
   ]
  },
  {
   "cell_type": "markdown",
   "id": "59ccf7d8-d428-4edf-a23b-00d1d7e34de7",
   "metadata": {},
   "source": [
    "## Define training loop"
   ]
  },
  {
   "cell_type": "code",
   "execution_count": 13,
   "id": "e3472161-3cd5-4a0a-a244-dcff1a3d9b44",
   "metadata": {},
   "outputs": [
    {
     "name": "stdout",
     "output_type": "stream",
     "text": [
      "Start of the epoch   0\n"
     ]
    },
    {
     "name": "stderr",
     "output_type": "stream",
     "text": [
      "training loss for step 937: 3.7706e-01: 100%|██████████████████████████| 938/938\n"
     ]
    },
    {
     "name": "stdout",
     "output_type": "stream",
     "text": [
      "Epoch:  1 train_loss: 5.448e-01 train_acc: 0.81 val_loss: 4.730e-01 val_acc:0.84\n",
      "Start of the epoch   1\n"
     ]
    },
    {
     "name": "stderr",
     "output_type": "stream",
     "text": [
      "training loss for step 937: 4.0419e-01: 100%|██████████████████████████| 938/938\n"
     ]
    },
    {
     "name": "stdout",
     "output_type": "stream",
     "text": [
      "Epoch:  2 train_loss: 3.913e-01 train_acc: 0.86 val_loss: 4.227e-01 val_acc:0.85\n",
      "Start of the epoch   2\n"
     ]
    },
    {
     "name": "stderr",
     "output_type": "stream",
     "text": [
      "training loss for step 937: 4.6472e-01: 100%|██████████████████████████| 938/938\n"
     ]
    },
    {
     "name": "stdout",
     "output_type": "stream",
     "text": [
      "Epoch:  3 train_loss: 3.517e-01 train_acc: 0.87 val_loss: 3.896e-01 val_acc:0.86\n",
      "Start of the epoch   3\n"
     ]
    },
    {
     "name": "stderr",
     "output_type": "stream",
     "text": [
      "training loss for step 937: 1.7387e-01: 100%|██████████████████████████| 938/938\n"
     ]
    },
    {
     "name": "stdout",
     "output_type": "stream",
     "text": [
      "Epoch:  4 train_loss: 3.304e-01 train_acc: 0.88 val_loss: 3.689e-01 val_acc:0.87\n",
      "Start of the epoch   4\n"
     ]
    },
    {
     "name": "stderr",
     "output_type": "stream",
     "text": [
      "training loss for step 937: 2.4125e-01: 100%|██████████████████████████| 938/938\n"
     ]
    },
    {
     "name": "stdout",
     "output_type": "stream",
     "text": [
      "Epoch:  5 train_loss: 3.136e-01 train_acc: 0.88 val_loss: 3.527e-01 val_acc:0.87\n",
      "Start of the epoch   5\n"
     ]
    },
    {
     "name": "stderr",
     "output_type": "stream",
     "text": [
      "training loss for step 937: 4.8775e-01: 100%|██████████████████████████| 938/938\n"
     ]
    },
    {
     "name": "stdout",
     "output_type": "stream",
     "text": [
      "Epoch:  6 train_loss: 3.000e-01 train_acc: 0.89 val_loss: 3.676e-01 val_acc:0.87\n",
      "Start of the epoch   6\n"
     ]
    },
    {
     "name": "stderr",
     "output_type": "stream",
     "text": [
      "training loss for step 937: 4.3995e-02: 100%|██████████████████████████| 938/938\n"
     ]
    },
    {
     "name": "stdout",
     "output_type": "stream",
     "text": [
      "Epoch:  7 train_loss: 2.914e-01 train_acc: 0.89 val_loss: 3.607e-01 val_acc:0.87\n",
      "Start of the epoch   7\n"
     ]
    },
    {
     "name": "stderr",
     "output_type": "stream",
     "text": [
      "training loss for step 937: 1.2092e-01: 100%|██████████████████████████| 938/938\n"
     ]
    },
    {
     "name": "stdout",
     "output_type": "stream",
     "text": [
      "Epoch:  8 train_loss: 2.791e-01 train_acc: 0.90 val_loss: 3.558e-01 val_acc:0.88\n",
      "Start of the epoch   8\n"
     ]
    },
    {
     "name": "stderr",
     "output_type": "stream",
     "text": [
      "training loss for step 937: 2.7443e-01: 100%|██████████████████████████| 938/938\n"
     ]
    },
    {
     "name": "stdout",
     "output_type": "stream",
     "text": [
      "Epoch:  9 train_loss: 2.706e-01 train_acc: 0.90 val_loss: 3.512e-01 val_acc:0.88\n",
      "Start of the epoch   9\n"
     ]
    },
    {
     "name": "stderr",
     "output_type": "stream",
     "text": [
      "training loss for step 937: 2.6668e-01: 100%|██████████████████████████| 938/938\n"
     ]
    },
    {
     "name": "stdout",
     "output_type": "stream",
     "text": [
      "Epoch: 10 train_loss: 2.603e-01 train_acc: 0.90 val_loss: 3.476e-01 val_acc:0.88\n"
     ]
    }
   ],
   "source": [
    "model = base_model()\n",
    "\n",
    "epochs = 10\n",
    "epoch_val_losses, epoch_train_losses = [], []\n",
    "\n",
    "for epoch in range(epochs):\n",
    "    print(f'Start of the epoch {epoch:>3}')\n",
    "\n",
    "    # Perform a training step\n",
    "    losses = training_step()\n",
    "    train_acc = train_acc_metric.result()\n",
    "\n",
    "    # Perform validation step to get metrics\n",
    "    val_losses = validation_step()\n",
    "    val_acc = test_acc_metric.result()\n",
    "\n",
    "    # Loss for each epoch should be mean over the steps\n",
    "    train_loss_mean = np.mean(losses)\n",
    "    val_loss_mean = np.mean(val_losses)\n",
    "\n",
    "    # Store mean_loss\n",
    "    epoch_train_losses.append(train_loss_mean)\n",
    "    epoch_val_losses.append(val_loss_mean)\n",
    "\n",
    "    print(f'''Epoch: {epoch + 1:>2} train_loss: {train_loss_mean:0.3e} train_acc: {train_acc_metric.result():0.2f} val_loss: {val_loss_mean:0.3e} val_acc:{test_acc_metric.result():0.2f}''')\n",
    "\n",
    "    # reset metrics for the next epoch\n",
    "    train_acc_metric.reset_states()\n",
    "    test_acc_metric.reset_states()"
   ]
  },
  {
   "cell_type": "code",
   "execution_count": null,
   "id": "fc2d02c3-2e27-4d76-8c15-c70de425c6f7",
   "metadata": {},
   "outputs": [],
   "source": []
  }
 ],
 "metadata": {
  "kernelspec": {
   "display_name": "Python 3 (ipykernel)",
   "language": "python",
   "name": "python3"
  },
  "language_info": {
   "codemirror_mode": {
    "name": "ipython",
    "version": 3
   },
   "file_extension": ".py",
   "mimetype": "text/x-python",
   "name": "python",
   "nbconvert_exporter": "python",
   "pygments_lexer": "ipython3",
   "version": "3.11.4"
  }
 },
 "nbformat": 4,
 "nbformat_minor": 5
}
