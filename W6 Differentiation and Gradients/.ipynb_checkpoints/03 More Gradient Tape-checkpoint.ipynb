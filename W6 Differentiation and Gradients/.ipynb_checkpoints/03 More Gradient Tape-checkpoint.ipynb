{
 "cells": [
  {
   "cell_type": "code",
   "execution_count": 1,
   "id": "5951ea7a",
   "metadata": {},
   "outputs": [],
   "source": [
    "import os\n",
    "os.environ['TF_CPP_MIN_LOG_LEVEL'] = '2'\n",
    "import numpy as np\n",
    "import tensorflow as tf\n",
    "\n",
    "import matplotlib.pyplot as plt"
   ]
  },
  {
   "cell_type": "markdown",
   "id": "c9e43950",
   "metadata": {},
   "source": [
    "## Example 1"
   ]
  },
  {
   "cell_type": "code",
   "execution_count": 2,
   "id": "1edb7718",
   "metadata": {},
   "outputs": [
    {
     "name": "stdout",
     "output_type": "stream",
     "text": [
      "6.0\n"
     ]
    }
   ],
   "source": [
    "x = tf.Variable(3.0)\n",
    "\n",
    "with tf.GradientTape() as tape:\n",
    "    y = x**2\n",
    "    \n",
    "dy_dx = tape.gradient(y, x)\n",
    "print(dy_dx.numpy())"
   ]
  },
  {
   "cell_type": "markdown",
   "id": "6428ef61",
   "metadata": {},
   "source": [
    "## Example 2\n",
    "Notes: <b>persistent=True</b> argument for the GradientTape let's you call gradient multiple times"
   ]
  },
  {
   "cell_type": "code",
   "execution_count": 3,
   "id": "20c07fe3",
   "metadata": {},
   "outputs": [
    {
     "name": "stdout",
     "output_type": "stream",
     "text": [
      "tf.Tensor(\n",
      "[[-5.9031854  -2.102612  ]\n",
      " [-3.935457   -1.4017413 ]\n",
      " [-1.9677285  -0.70087063]], shape=(3, 2), dtype=float32) tf.Tensor([-1.9677285  -0.70087063], shape=(2,), dtype=float32)\n"
     ]
    }
   ],
   "source": [
    "w = tf.Variable(tf.random.normal((3, 2)), name='w')\n",
    "b = tf.Variable(tf.zeros(2, dtype='float32'), name='b')\n",
    "x = [[3.0, 2.0, 1.0]] # Shape is (1, 3)\n",
    "\n",
    "with tf.GradientTape() as tape:\n",
    "    y = x @ w + b\n",
    "    l = tf.reduce_mean(y ** 2)\n",
    "    \n",
    "dl_dw, dl_db = tape.gradient(l, [w, b])\n",
    "print(dl_dw, dl_db)"
   ]
  },
  {
   "cell_type": "code",
   "execution_count": 4,
   "id": "a9247596",
   "metadata": {},
   "outputs": [
    {
     "name": "stdout",
     "output_type": "stream",
     "text": [
      "{'w': <tf.Tensor: shape=(3, 2), dtype=float32, numpy=\n",
      "array([[13.088335 , -2.3886986],\n",
      "       [ 8.725556 , -1.5924658],\n",
      "       [ 4.362778 , -0.7962329]], dtype=float32)>, 'b': <tf.Tensor: shape=(2,), dtype=float32, numpy=array([ 4.362778 , -0.7962329], dtype=float32)>}\n"
     ]
    }
   ],
   "source": [
    "# We can give the names in a dictionary\n",
    "w = tf.Variable(tf.random.normal((3, 2)))\n",
    "b = tf.Variable(tf.zeros(2, dtype='float32'))\n",
    "x = [[3.0, 2.0, 1.0]] # Shape is (1, 3)\n",
    "\n",
    "with tf.GradientTape(persistent=True) as tape:\n",
    "    y = x @ w + b\n",
    "    l = tf.reduce_mean(y ** 2)\n",
    "\n",
    "my_vars = {\n",
    "    'w':w,\n",
    "    'b':b,\n",
    "}\n",
    "grads = tape.gradient(l, my_vars)\n",
    "print(grads) # Returns a dictionary"
   ]
  },
  {
   "cell_type": "markdown",
   "id": "5c89b8cf",
   "metadata": {},
   "source": [
    "## Example 3: Gradients with respect to a model"
   ]
  },
  {
   "cell_type": "code",
   "execution_count": 5,
   "id": "8db79e03",
   "metadata": {},
   "outputs": [
    {
     "name": "stdout",
     "output_type": "stream",
     "text": [
      "[<tf.Tensor: shape=(3, 2), dtype=float32, numpy=\n",
      "array([[-0.09957576,  0.13712737],\n",
      "       [-0.29872727,  0.4113821 ],\n",
      "       [-0.19915152,  0.27425474]], dtype=float32)>, <tf.Tensor: shape=(2,), dtype=float32, numpy=array([-0.09957576,  0.13712737], dtype=float32)>]\n"
     ]
    }
   ],
   "source": [
    "model = tf.keras.layers.Dense(units=2, activation='sigmoid')\n",
    "x = tf.constant([[1, 3, 2]], dtype='float32')\n",
    "y = tf.constant([[1, 0]], dtype='float32')\n",
    "\n",
    "with tf.GradientTape(persistent=True) as tape:\n",
    "    y_hat = model(x)\n",
    "    loss = tf.multiply(-y, tf.math.log(y_hat)) - tf.multiply((1 - y), tf.math.log(1 - y_hat))\n",
    "    loss = tf.reduce_sum(loss, axis=1)\n",
    "    loss = tf.reduce_sum(loss, axis=0)\n",
    "    \n",
    "grads = tape.gradient(loss, model.trainable_variables)\n",
    "print(grads)"
   ]
  },
  {
   "cell_type": "code",
   "execution_count": 6,
   "id": "b197a549",
   "metadata": {},
   "outputs": [
    {
     "name": "stdout",
     "output_type": "stream",
     "text": [
      "dense/kernel:0, shape: (3, 2)\n",
      "dense/bias:0, shape: (2,)\n"
     ]
    }
   ],
   "source": [
    "for var, g in zip(model.trainable_variables, grads):\n",
    "    print(f'{var.name}, shape: {g.shape}')"
   ]
  },
  {
   "cell_type": "markdown",
   "id": "6446cbc2",
   "metadata": {},
   "source": [
    "### Notes\n",
    "Gradient tape only works if there are variables to watch and the code below fails since x1, x2, x3 are not variables"
   ]
  },
  {
   "cell_type": "code",
   "execution_count": 7,
   "id": "b0191254",
   "metadata": {},
   "outputs": [
    {
     "name": "stdout",
     "output_type": "stream",
     "text": [
      "tf.Tensor(6.0, shape=(), dtype=float32)\n",
      "None\n",
      "None\n",
      "None\n"
     ]
    }
   ],
   "source": [
    "# A trainable variable\n",
    "x0 = tf.Variable(3.0, name='x0')\n",
    "# Not trainable\n",
    "x1 = tf.Variable(3.0, name='x1', trainable=False)\n",
    "# Not a Variable: A variable + tensor returns a tensor.\n",
    "x2 = tf.Variable(2.0, name='x2') + 1.0\n",
    "# Not a variable\n",
    "x3 = tf.constant(3.0, name='x3')\n",
    "\n",
    "with tf.GradientTape(persistent=True) as tape:\n",
    "    y = (x0 ** 2) + (x1 ** 2) + (x2 ** 2) + (x3 ** 2)\n",
    "    \n",
    "grads = tape.gradient(y, [x0, x1, x2, x3])\n",
    "\n",
    "for grad in grads:\n",
    "    print(grad)"
   ]
  },
  {
   "cell_type": "code",
   "execution_count": 8,
   "id": "a58a00b9",
   "metadata": {},
   "outputs": [
    {
     "data": {
      "text/plain": [
       "(<tf.Variable 'x0:0' shape=() dtype=float32, numpy=3.0>,)"
      ]
     },
     "execution_count": 8,
     "metadata": {},
     "output_type": "execute_result"
    }
   ],
   "source": [
    "# Use function below to see what tape is watching\n",
    "tape.watched_variables()"
   ]
  },
  {
   "cell_type": "markdown",
   "id": "ee4a559f",
   "metadata": {},
   "source": [
    "### Notes\n",
    "GradientTape does not watch over tensors but you can force GradientTape to watch over it"
   ]
  },
  {
   "cell_type": "code",
   "execution_count": 9,
   "id": "3f0c6f47",
   "metadata": {},
   "outputs": [
    {
     "name": "stdout",
     "output_type": "stream",
     "text": [
      "tf.Tensor(6.0, shape=(), dtype=float32)\n"
     ]
    }
   ],
   "source": [
    "x = tf.constant(3.0, dtype='float32')\n",
    "\n",
    "with tf.GradientTape(persistent=True) as tape:\n",
    "    tape.watch(x)\n",
    "    y = x**2\n",
    "\n",
    "grad = tape.gradient(y, x)\n",
    "print(grad)"
   ]
  },
  {
   "cell_type": "markdown",
   "id": "9df47421",
   "metadata": {},
   "source": [
    "Conversely, to disable the default behavior of watching all `tf.Variables`, set `watch_accessed_variables=False` when creating the gradient tape. This calculation uses two variables, but only connects the gradient for one of the variables:"
   ]
  },
  {
   "cell_type": "code",
   "execution_count": 10,
   "id": "c4d919c5",
   "metadata": {},
   "outputs": [
    {
     "name": "stdout",
     "output_type": "stream",
     "text": [
      "x0 None\n",
      "x1 tf.Tensor(0.7864477, shape=(), dtype=float32)\n"
     ]
    }
   ],
   "source": [
    "x0 = tf.Variable(0.2, dtype='float32')\n",
    "x1 = tf.Variable(0.5, dtype='float32')\n",
    "\n",
    "with tf.GradientTape(watch_accessed_variables=False, persistent=True) as tape:\n",
    "    tape.watch(x1)\n",
    "    y0 = tf.math.sin(x0)\n",
    "    y1 = tf.math.tanh(x1)\n",
    "    ys = y0 + y1\n",
    "\n",
    "grads = tape.gradient(ys, {'x0':x0, 'x1':x1})\n",
    "\n",
    "for grad in grads:\n",
    "    print(grad, grads[grad])"
   ]
  }
 ],
 "metadata": {
  "kernelspec": {
   "display_name": "Python 3 (ipykernel)",
   "language": "python",
   "name": "python3"
  },
  "language_info": {
   "codemirror_mode": {
    "name": "ipython",
    "version": 3
   },
   "file_extension": ".py",
   "mimetype": "text/x-python",
   "name": "python",
   "nbconvert_exporter": "python",
   "pygments_lexer": "ipython3",
   "version": "3.11.4"
  }
 },
 "nbformat": 4,
 "nbformat_minor": 5
}
