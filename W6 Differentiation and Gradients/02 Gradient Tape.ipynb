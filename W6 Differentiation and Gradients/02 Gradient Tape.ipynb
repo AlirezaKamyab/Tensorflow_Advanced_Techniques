{
 "cells": [
  {
   "cell_type": "code",
   "execution_count": 1,
   "id": "c00cf5aa-52c6-41aa-ac82-10ba4c418da0",
   "metadata": {},
   "outputs": [],
   "source": [
    "import os\n",
    "os.environ['TF_CPP_MIN_LOG_LEVEL'] = '2'"
   ]
  },
  {
   "cell_type": "code",
   "execution_count": 2,
   "id": "7f270454-e143-496f-be45-552b48f465f3",
   "metadata": {},
   "outputs": [],
   "source": [
    "import tensorflow as tf\n",
    "import numpy as np"
   ]
  },
  {
   "cell_type": "code",
   "execution_count": 3,
   "id": "831634c6-2ac1-429b-bd1c-852fe9bf356e",
   "metadata": {},
   "outputs": [],
   "source": [
    "x = np.arange(-2, 5).astype(np.float32)\n",
    "y = 2 * x - 1"
   ]
  },
  {
   "cell_type": "code",
   "execution_count": 4,
   "id": "678d428b-007f-48d4-9e32-c82ed6ee8f01",
   "metadata": {},
   "outputs": [
    {
     "name": "stdout",
     "output_type": "stream",
     "text": [
      "[-2. -1.  0.  1.  2.  3.  4.]\n",
      "[-5. -3. -1.  1.  3.  5.  7.]\n"
     ]
    }
   ],
   "source": [
    "print(x)\n",
    "print(y)"
   ]
  },
  {
   "cell_type": "code",
   "execution_count": 5,
   "id": "027e2a50-7014-4c55-8f35-7b7e65391c85",
   "metadata": {},
   "outputs": [
    {
     "name": "stdout",
     "output_type": "stream",
     "text": [
      "<tf.Variable 'Variable:0' shape=(1,) dtype=float32, numpy=array([0.00190112], dtype=float32)>\n",
      "<tf.Variable 'Variable:0' shape=(1,) dtype=float32, numpy=array([-0.06860701], dtype=float32)>\n"
     ]
    }
   ],
   "source": [
    "random_normal = tf.random_normal_initializer()\n",
    "w = tf.Variable(initial_value=random_normal(shape=(1,)), trainable=True)\n",
    "b = tf.Variable(initial_value=random_normal(shape=(1,)), trainable=True)\n",
    "print(w)\n",
    "print(b)"
   ]
  },
  {
   "cell_type": "code",
   "execution_count": 6,
   "id": "584b09ea-f406-42f5-be7b-84f63968152c",
   "metadata": {},
   "outputs": [],
   "source": [
    "def absolute_loss(y_true, y_pred):\n",
    "    return tf.abs(y_true - y_pred)\n",
    "\n",
    "def squared_loss(y_true, y_pred):\n",
    "    return tf.square(y_true - y_pred)"
   ]
  },
  {
   "cell_type": "code",
   "execution_count": 7,
   "id": "3038d7b5-ea7a-48df-9bc0-e5162ba25ded",
   "metadata": {},
   "outputs": [],
   "source": [
    "LEARNING_RATE = 0.001"
   ]
  },
  {
   "cell_type": "code",
   "execution_count": 8,
   "id": "7dea6e91-1da6-499e-baf9-48293a8e0359",
   "metadata": {},
   "outputs": [],
   "source": [
    "def fit_data(x, y):\n",
    "    global w\n",
    "    global b\n",
    "    with tf.GradientTape(persistent=True) as tape:\n",
    "        y_pred = w * x + b\n",
    "        loss = squared_loss(y, y_pred)\n",
    "\n",
    "    dw = tape.gradient(loss, w)\n",
    "    db = tape.gradient(loss, b)\n",
    "\n",
    "    w.assign_sub(LEARNING_RATE  * dw)\n",
    "    b.assign_sub(LEARNING_RATE * db)"
   ]
  },
  {
   "cell_type": "code",
   "execution_count": 9,
   "id": "fca00319-5336-4c0e-9d88-3edc1f5c546d",
   "metadata": {},
   "outputs": [],
   "source": [
    "for _ in range(500):\n",
    "    fit_data(x, y)"
   ]
  },
  {
   "cell_type": "code",
   "execution_count": 10,
   "id": "8cf0a9b4-a8ce-44af-b539-d49981d4ff3c",
   "metadata": {},
   "outputs": [
    {
     "name": "stdout",
     "output_type": "stream",
     "text": [
      "<tf.Variable 'Variable:0' shape=(1,) dtype=float32, numpy=array([1.998549], dtype=float32)>\n",
      "<tf.Variable 'Variable:0' shape=(1,) dtype=float32, numpy=array([-0.99385357], dtype=float32)>\n"
     ]
    }
   ],
   "source": [
    "print(w)\n",
    "print(b)"
   ]
  },
  {
   "cell_type": "code",
   "execution_count": null,
   "id": "7a2c5cbf-14d1-4b94-aa2b-75afdf65b61e",
   "metadata": {},
   "outputs": [],
   "source": []
  }
 ],
 "metadata": {
  "kernelspec": {
   "display_name": "Python 3 (ipykernel)",
   "language": "python",
   "name": "python3"
  },
  "language_info": {
   "codemirror_mode": {
    "name": "ipython",
    "version": 3
   },
   "file_extension": ".py",
   "mimetype": "text/x-python",
   "name": "python",
   "nbconvert_exporter": "python",
   "pygments_lexer": "ipython3",
   "version": "3.11.4"
  }
 },
 "nbformat": 4,
 "nbformat_minor": 5
}
